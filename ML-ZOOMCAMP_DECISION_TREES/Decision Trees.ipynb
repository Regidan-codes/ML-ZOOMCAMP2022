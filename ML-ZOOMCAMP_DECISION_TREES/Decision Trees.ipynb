{
 "cells": [
  {
   "cell_type": "code",
   "execution_count": 46,
   "id": "98c1d4d1",
   "metadata": {},
   "outputs": [],
   "source": [
    "%matplotlib inline\n",
    "\n",
    "\n",
    "import numpy as np\n",
    "import pandas as pd\n",
    "import seaborn as sns\n",
    "import xgboost as xgb\n",
    "import matplotlib.pyplot as plt"
   ]
  },
  {
   "cell_type": "code",
   "execution_count": 48,
   "id": "b83c1371",
   "metadata": {},
   "outputs": [],
   "source": [
    "from sklearn.tree import DecisionTreeRegressor\n",
    "from sklearn.tree import export_text\n",
    "from sklearn.feature_extraction import DictVectorizer\n",
    "from sklearn.model_selection import train_test_split\n",
    "from sklearn.ensemble import RandomForestRegressor\n",
    "from sklearn.metrics import mean_squared_error\n",
    "from tqdm import tqdm\n",
    "from tqdm.auto import tqdm\n",
    "import re"
   ]
  },
  {
   "cell_type": "code",
   "execution_count": 5,
   "id": "e5ca2a6e",
   "metadata": {},
   "outputs": [
    {
     "data": {
      "text/html": [
       "<div>\n",
       "<style scoped>\n",
       "    .dataframe tbody tr th:only-of-type {\n",
       "        vertical-align: middle;\n",
       "    }\n",
       "\n",
       "    .dataframe tbody tr th {\n",
       "        vertical-align: top;\n",
       "    }\n",
       "\n",
       "    .dataframe thead th {\n",
       "        text-align: right;\n",
       "    }\n",
       "</style>\n",
       "<table border=\"1\" class=\"dataframe\">\n",
       "  <thead>\n",
       "    <tr style=\"text-align: right;\">\n",
       "      <th></th>\n",
       "      <th>longitude</th>\n",
       "      <th>latitude</th>\n",
       "      <th>housing_median_age</th>\n",
       "      <th>total_rooms</th>\n",
       "      <th>total_bedrooms</th>\n",
       "      <th>population</th>\n",
       "      <th>households</th>\n",
       "      <th>median_income</th>\n",
       "      <th>median_house_value</th>\n",
       "      <th>ocean_proximity</th>\n",
       "    </tr>\n",
       "  </thead>\n",
       "  <tbody>\n",
       "    <tr>\n",
       "      <th>0</th>\n",
       "      <td>-122.23</td>\n",
       "      <td>37.88</td>\n",
       "      <td>41.0</td>\n",
       "      <td>880.0</td>\n",
       "      <td>129.0</td>\n",
       "      <td>322.0</td>\n",
       "      <td>126.0</td>\n",
       "      <td>8.3252</td>\n",
       "      <td>452600.0</td>\n",
       "      <td>NEAR BAY</td>\n",
       "    </tr>\n",
       "    <tr>\n",
       "      <th>1</th>\n",
       "      <td>-122.22</td>\n",
       "      <td>37.86</td>\n",
       "      <td>21.0</td>\n",
       "      <td>7099.0</td>\n",
       "      <td>1106.0</td>\n",
       "      <td>2401.0</td>\n",
       "      <td>1138.0</td>\n",
       "      <td>8.3014</td>\n",
       "      <td>358500.0</td>\n",
       "      <td>NEAR BAY</td>\n",
       "    </tr>\n",
       "    <tr>\n",
       "      <th>2</th>\n",
       "      <td>-122.24</td>\n",
       "      <td>37.85</td>\n",
       "      <td>52.0</td>\n",
       "      <td>1467.0</td>\n",
       "      <td>190.0</td>\n",
       "      <td>496.0</td>\n",
       "      <td>177.0</td>\n",
       "      <td>7.2574</td>\n",
       "      <td>352100.0</td>\n",
       "      <td>NEAR BAY</td>\n",
       "    </tr>\n",
       "    <tr>\n",
       "      <th>3</th>\n",
       "      <td>-122.25</td>\n",
       "      <td>37.85</td>\n",
       "      <td>52.0</td>\n",
       "      <td>1274.0</td>\n",
       "      <td>235.0</td>\n",
       "      <td>558.0</td>\n",
       "      <td>219.0</td>\n",
       "      <td>5.6431</td>\n",
       "      <td>341300.0</td>\n",
       "      <td>NEAR BAY</td>\n",
       "    </tr>\n",
       "    <tr>\n",
       "      <th>4</th>\n",
       "      <td>-122.25</td>\n",
       "      <td>37.85</td>\n",
       "      <td>52.0</td>\n",
       "      <td>1627.0</td>\n",
       "      <td>280.0</td>\n",
       "      <td>565.0</td>\n",
       "      <td>259.0</td>\n",
       "      <td>3.8462</td>\n",
       "      <td>342200.0</td>\n",
       "      <td>NEAR BAY</td>\n",
       "    </tr>\n",
       "  </tbody>\n",
       "</table>\n",
       "</div>"
      ],
      "text/plain": [
       "   longitude  latitude  housing_median_age  total_rooms  total_bedrooms  \\\n",
       "0    -122.23     37.88                41.0        880.0           129.0   \n",
       "1    -122.22     37.86                21.0       7099.0          1106.0   \n",
       "2    -122.24     37.85                52.0       1467.0           190.0   \n",
       "3    -122.25     37.85                52.0       1274.0           235.0   \n",
       "4    -122.25     37.85                52.0       1627.0           280.0   \n",
       "\n",
       "   population  households  median_income  median_house_value ocean_proximity  \n",
       "0       322.0       126.0         8.3252            452600.0        NEAR BAY  \n",
       "1      2401.0      1138.0         8.3014            358500.0        NEAR BAY  \n",
       "2       496.0       177.0         7.2574            352100.0        NEAR BAY  \n",
       "3       558.0       219.0         5.6431            341300.0        NEAR BAY  \n",
       "4       565.0       259.0         3.8462            342200.0        NEAR BAY  "
      ]
     },
     "execution_count": 5,
     "metadata": {},
     "output_type": "execute_result"
    }
   ],
   "source": [
    "columns = [\"longitude\", \"latitude\", \"housing_median_age\", \"total_rooms\", \"total_bedrooms\", \"population\", \"households\", \n",
    "               \"median_income\", \"median_house_value\", \"ocean_proximity\"]\n",
    "data = pd.read_csv(\"housing.csv\", usecols=columns)\n",
    "data.head()"
   ]
  },
  {
   "cell_type": "code",
   "execution_count": 7,
   "id": "9edad6af",
   "metadata": {},
   "outputs": [
    {
     "data": {
      "text/plain": [
       "longitude               0\n",
       "latitude                0\n",
       "housing_median_age      0\n",
       "total_rooms             0\n",
       "total_bedrooms        207\n",
       "population              0\n",
       "households              0\n",
       "median_income           0\n",
       "median_house_value      0\n",
       "ocean_proximity         0\n",
       "dtype: int64"
      ]
     },
     "execution_count": 7,
     "metadata": {},
     "output_type": "execute_result"
    }
   ],
   "source": [
    "data.isna().sum()"
   ]
  },
  {
   "cell_type": "code",
   "execution_count": 8,
   "id": "9311c582",
   "metadata": {},
   "outputs": [],
   "source": [
    "data[\"total_bedrooms\"] = data.total_bedrooms.fillna(0)\n",
    "data[\"median_house_value\"] = np.log(data.median_house_value)"
   ]
  },
  {
   "cell_type": "code",
   "execution_count": 9,
   "id": "d8dbebc5",
   "metadata": {},
   "outputs": [],
   "source": [
    "df_full_train, df_test = train_test_split(data, test_size=0.2, random_state=1)\n",
    "df_train, df_val = train_test_split(df_full_train, test_size=0.25, random_state=1)\n",
    "\n",
    "df_train = df_train.reset_index(drop=True)\n",
    "df_val = df_val.reset_index(drop=True)\n",
    "df_test = df_test.reset_index(drop=True)\n",
    "\n",
    "y_train = df_train.median_house_value.values\n",
    "y_val = df_val.median_house_value.values\n",
    "y_test = df_test.median_house_value.values\n",
    "\n",
    "del df_train['median_house_value']\n",
    "del df_val['median_house_value']\n",
    "del df_test['median_house_value']\n"
   ]
  },
  {
   "cell_type": "code",
   "execution_count": 10,
   "id": "1b5e734c",
   "metadata": {},
   "outputs": [],
   "source": [
    "train_dicts = df_train.fillna(0).to_dict(orient='records')\n",
    "dv = DictVectorizer(sparse=False)\n",
    "X_train = dv.fit_transform(train_dicts)\n",
    "\n",
    "val_dicts = df_val.fillna(0).to_dict(orient='records')\n",
    "X_val = dv.transform(val_dicts)"
   ]
  },
  {
   "cell_type": "code",
   "execution_count": 11,
   "id": "e997a2e1",
   "metadata": {},
   "outputs": [
    {
     "data": {
      "text/plain": [
       "DecisionTreeRegressor(max_depth=1)"
      ]
     },
     "execution_count": 11,
     "metadata": {},
     "output_type": "execute_result"
    }
   ],
   "source": [
    "dt = DecisionTreeRegressor(max_depth=1)\n",
    "dt.fit(X_train, y_train)"
   ]
  },
  {
   "cell_type": "code",
   "execution_count": 14,
   "id": "a9c2073f",
   "metadata": {},
   "outputs": [
    {
     "name": "stdout",
     "output_type": "stream",
     "text": [
      "|--- ocean_proximity=INLAND <= 0.50\n",
      "|   |--- value: [12.31]\n",
      "|--- ocean_proximity=INLAND >  0.50\n",
      "|   |--- value: [11.61]\n",
      "\n"
     ]
    },
    {
     "name": "stderr",
     "output_type": "stream",
     "text": [
      "/home/regidan/miniconda3/lib/python3.9/site-packages/sklearn/utils/deprecation.py:87: FutureWarning: Function get_feature_names is deprecated; get_feature_names is deprecated in 1.0 and will be removed in 1.2. Please use get_feature_names_out instead.\n",
      "  warnings.warn(msg, category=FutureWarning)\n"
     ]
    }
   ],
   "source": [
    "print(export_text(dt, feature_names=dv.get_feature_names()))"
   ]
  },
  {
   "cell_type": "markdown",
   "id": "b05dbfa6",
   "metadata": {},
   "source": [
    "# Question 1\n",
    "\n",
    "Let's train a decision tree regressor to predict the median_house_value variable.\n",
    "\n",
    "    Train a model with max_depth=1.\n",
    "\n",
    "Which feature is used for splitting the data?\n",
    "\n",
    "    ocean_proximity=INLAND\n",
    "    total_rooms\n",
    "    latitude\n",
    "    population"
   ]
  },
  {
   "cell_type": "markdown",
   "id": "c3e9696d",
   "metadata": {},
   "source": [
    "Answer: ocean_proximity=INLAND"
   ]
  },
  {
   "cell_type": "code",
   "execution_count": 16,
   "id": "593fc7d8",
   "metadata": {},
   "outputs": [
    {
     "data": {
      "text/plain": [
       "0.06019704902894174"
      ]
     },
     "execution_count": 16,
     "metadata": {},
     "output_type": "execute_result"
    }
   ],
   "source": [
    "rf = RandomForestRegressor(n_estimators=10, random_state=1, n_jobs=-1)\n",
    "rf.fit(X_train, y_train)\n",
    "\n",
    "\n",
    "\n",
    "y_pred = rf.predict(X_val)\n",
    "mean_squared_error(y_val, y_pred)"
   ]
  },
  {
   "cell_type": "markdown",
   "id": "2061456e",
   "metadata": {},
   "source": [
    "# Question 2\n",
    "\n",
    "Train a random forest model with these parameters:\n",
    "\n",
    "    n_estimators=10\n",
    "    random_state=1\n",
    "    n_jobs=-1 (optional - to make training faster)\n",
    "\n",
    "What's the RMSE of this model on validation?\n",
    "\n",
    "    0.05\n",
    "    0.25\n",
    "    0.55\n",
    "    0.85"
   ]
  },
  {
   "cell_type": "markdown",
   "id": "a8efe9e9",
   "metadata": {},
   "source": [
    "Answer: 0.05"
   ]
  },
  {
   "cell_type": "code",
   "execution_count": 18,
   "id": "52509a91",
   "metadata": {},
   "outputs": [
    {
     "name": "stderr",
     "output_type": "stream",
     "text": [
      "100%|███████████████████████████████████████████| 20/20 [02:04<00:00,  6.23s/it]\n"
     ]
    },
    {
     "data": {
      "text/html": [
       "<div>\n",
       "<style scoped>\n",
       "    .dataframe tbody tr th:only-of-type {\n",
       "        vertical-align: middle;\n",
       "    }\n",
       "\n",
       "    .dataframe tbody tr th {\n",
       "        vertical-align: top;\n",
       "    }\n",
       "\n",
       "    .dataframe thead th {\n",
       "        text-align: right;\n",
       "    }\n",
       "</style>\n",
       "<table border=\"1\" class=\"dataframe\">\n",
       "  <thead>\n",
       "    <tr style=\"text-align: right;\">\n",
       "      <th></th>\n",
       "      <th>n_estimators</th>\n",
       "      <th>mse</th>\n",
       "    </tr>\n",
       "  </thead>\n",
       "  <tbody>\n",
       "    <tr>\n",
       "      <th>0</th>\n",
       "      <td>10</td>\n",
       "      <td>0.060197</td>\n",
       "    </tr>\n",
       "    <tr>\n",
       "      <th>1</th>\n",
       "      <td>20</td>\n",
       "      <td>0.057105</td>\n",
       "    </tr>\n",
       "    <tr>\n",
       "      <th>2</th>\n",
       "      <td>30</td>\n",
       "      <td>0.055383</td>\n",
       "    </tr>\n",
       "    <tr>\n",
       "      <th>3</th>\n",
       "      <td>40</td>\n",
       "      <td>0.054986</td>\n",
       "    </tr>\n",
       "    <tr>\n",
       "      <th>4</th>\n",
       "      <td>50</td>\n",
       "      <td>0.054296</td>\n",
       "    </tr>\n",
       "    <tr>\n",
       "      <th>5</th>\n",
       "      <td>60</td>\n",
       "      <td>0.054140</td>\n",
       "    </tr>\n",
       "    <tr>\n",
       "      <th>6</th>\n",
       "      <td>70</td>\n",
       "      <td>0.053914</td>\n",
       "    </tr>\n",
       "    <tr>\n",
       "      <th>7</th>\n",
       "      <td>80</td>\n",
       "      <td>0.053931</td>\n",
       "    </tr>\n",
       "    <tr>\n",
       "      <th>8</th>\n",
       "      <td>90</td>\n",
       "      <td>0.053800</td>\n",
       "    </tr>\n",
       "    <tr>\n",
       "      <th>9</th>\n",
       "      <td>100</td>\n",
       "      <td>0.053741</td>\n",
       "    </tr>\n",
       "    <tr>\n",
       "      <th>10</th>\n",
       "      <td>110</td>\n",
       "      <td>0.053648</td>\n",
       "    </tr>\n",
       "    <tr>\n",
       "      <th>11</th>\n",
       "      <td>120</td>\n",
       "      <td>0.053680</td>\n",
       "    </tr>\n",
       "    <tr>\n",
       "      <th>12</th>\n",
       "      <td>130</td>\n",
       "      <td>0.053704</td>\n",
       "    </tr>\n",
       "    <tr>\n",
       "      <th>13</th>\n",
       "      <td>140</td>\n",
       "      <td>0.053661</td>\n",
       "    </tr>\n",
       "    <tr>\n",
       "      <th>14</th>\n",
       "      <td>150</td>\n",
       "      <td>0.053631</td>\n",
       "    </tr>\n",
       "    <tr>\n",
       "      <th>15</th>\n",
       "      <td>160</td>\n",
       "      <td>0.053625</td>\n",
       "    </tr>\n",
       "    <tr>\n",
       "      <th>16</th>\n",
       "      <td>170</td>\n",
       "      <td>0.053595</td>\n",
       "    </tr>\n",
       "    <tr>\n",
       "      <th>17</th>\n",
       "      <td>180</td>\n",
       "      <td>0.053663</td>\n",
       "    </tr>\n",
       "    <tr>\n",
       "      <th>18</th>\n",
       "      <td>190</td>\n",
       "      <td>0.053673</td>\n",
       "    </tr>\n",
       "    <tr>\n",
       "      <th>19</th>\n",
       "      <td>200</td>\n",
       "      <td>0.053632</td>\n",
       "    </tr>\n",
       "  </tbody>\n",
       "</table>\n",
       "</div>"
      ],
      "text/plain": [
       "    n_estimators       mse\n",
       "0             10  0.060197\n",
       "1             20  0.057105\n",
       "2             30  0.055383\n",
       "3             40  0.054986\n",
       "4             50  0.054296\n",
       "5             60  0.054140\n",
       "6             70  0.053914\n",
       "7             80  0.053931\n",
       "8             90  0.053800\n",
       "9            100  0.053741\n",
       "10           110  0.053648\n",
       "11           120  0.053680\n",
       "12           130  0.053704\n",
       "13           140  0.053661\n",
       "14           150  0.053631\n",
       "15           160  0.053625\n",
       "16           170  0.053595\n",
       "17           180  0.053663\n",
       "18           190  0.053673\n",
       "19           200  0.053632"
      ]
     },
     "execution_count": 18,
     "metadata": {},
     "output_type": "execute_result"
    }
   ],
   "source": [
    "scores = []\n",
    "\n",
    "for n in tqdm(range(10, 201, 10)):\n",
    "    rf = RandomForestRegressor(n_estimators=n, random_state=1)\n",
    "    rf.fit(X_train, y_train)\n",
    "\n",
    "    y_pred = rf.predict(X_val)\n",
    "    mse = mean_squared_error(y_val, y_pred)\n",
    "    \n",
    "    scores.append((n, mse))\n",
    "    \n",
    "df_scores = pd.DataFrame(scores, columns=['n_estimators', 'mse'])\n",
    "df_scores"
   ]
  },
  {
   "cell_type": "code",
   "execution_count": 19,
   "id": "97f4aae3",
   "metadata": {},
   "outputs": [
    {
     "data": {
      "text/plain": [
       "[<matplotlib.lines.Line2D at 0x7f5df84e7520>]"
      ]
     },
     "execution_count": 19,
     "metadata": {},
     "output_type": "execute_result"
    },
    {
     "data": {
      "image/png": "[encoded data removed]",
      "text/plain": [
       "<Figure size 640x480 with 1 Axes>"
      ]
     },
     "metadata": {},
     "output_type": "display_data"
    }
   ],
   "source": [
    "plt.plot(df_scores.n_estimators, df_scores.mse)"
   ]
  },
  {
   "cell_type": "markdown",
   "id": "4f301c5c",
   "metadata": {},
   "source": [
    "# Question 3\n",
    "\n",
    "Now let's experiment with the n_estimators parameter\n",
    "\n",
    "    Try different values of this parameter from 10 to 200 with step 10.\n",
    "    Set random_state to 1.\n",
    "    Evaluate the model on the validation dataset.\n",
    "\n",
    "After which value of n_estimators does RMSE stop improving?\n",
    "\n",
    "    10\n",
    "    50\n",
    "    70\n",
    "    150"
   ]
  },
  {
   "cell_type": "markdown",
   "id": "a947960a",
   "metadata": {},
   "source": [
    "Answer: 70"
   ]
  },
  {
   "cell_type": "code",
   "execution_count": 21,
   "id": "4ed84dc4",
   "metadata": {},
   "outputs": [
    {
     "name": "stderr",
     "output_type": "stream",
     "text": [
      "  0%|                                                     | 0/4 [00:00<?, ?it/s]\n",
      "  0%|                                                    | 0/20 [00:00<?, ?it/s]\u001b[A\n",
      "  5%|██▏                                         | 1/20 [00:00<00:07,  2.69it/s]\u001b[A\n",
      " 10%|████▍                                       | 2/20 [00:01<00:10,  1.74it/s]\u001b[A\n",
      " 15%|██████▌                                     | 3/20 [00:02<00:13,  1.25it/s]\u001b[A\n",
      " 20%|████████▊                                   | 4/20 [00:03<00:17,  1.07s/it]\u001b[A\n",
      " 25%|███████████                                 | 5/20 [00:05<00:20,  1.36s/it]\u001b[A\n",
      " 30%|█████████████▏                              | 6/20 [00:07<00:22,  1.64s/it]\u001b[A\n",
      " 35%|███████████████▍                            | 7/20 [00:10<00:25,  1.94s/it]\u001b[A\n",
      " 40%|█████████████████▌                          | 8/20 [00:13<00:27,  2.26s/it]\u001b[A\n",
      " 45%|███████████████████▊                        | 9/20 [00:16<00:28,  2.57s/it]\u001b[A\n",
      " 50%|█████████████████████▌                     | 10/20 [00:20<00:28,  2.89s/it]\u001b[A\n",
      " 55%|███████████████████████▋                   | 11/20 [00:24<00:28,  3.22s/it]\u001b[A\n",
      " 60%|█████████████████████████▊                 | 12/20 [00:28<00:28,  3.56s/it]\u001b[A\n",
      " 65%|███████████████████████████▉               | 13/20 [00:33<00:27,  3.92s/it]\u001b[A\n",
      " 70%|██████████████████████████████             | 14/20 [00:38<00:25,  4.26s/it]\u001b[A\n",
      " 75%|████████████████████████████████▎          | 15/20 [00:43<00:23,  4.60s/it]\u001b[A\n",
      " 80%|██████████████████████████████████▍        | 16/20 [00:49<00:19,  4.96s/it]\u001b[A\n",
      " 85%|████████████████████████████████████▌      | 17/20 [00:55<00:16,  5.38s/it]\u001b[A\n",
      " 90%|██████████████████████████████████████▋    | 18/20 [01:02<00:11,  5.76s/it]\u001b[A\n",
      " 95%|████████████████████████████████████████▊  | 19/20 [01:09<00:06,  6.13s/it]\u001b[A\n",
      "100%|███████████████████████████████████████████| 20/20 [01:16<00:00,  3.84s/it]\u001b[A\n",
      " 25%|███████████▎                                 | 1/4 [01:16<03:50, 76.80s/it]\n",
      "  0%|                                                    | 0/20 [00:00<?, ?it/s]\u001b[A\n",
      "  5%|██▏                                         | 1/20 [00:00<00:09,  2.09it/s]\u001b[A\n",
      " 10%|████▍                                       | 2/20 [00:01<00:13,  1.29it/s]\u001b[A\n",
      " 15%|██████▌                                     | 3/20 [00:02<00:18,  1.09s/it]\u001b[A\n",
      " 20%|████████▊                                   | 4/20 [00:05<00:23,  1.49s/it]\u001b[A\n",
      " 25%|███████████                                 | 5/20 [00:07<00:27,  1.86s/it]\u001b[A\n",
      " 30%|█████████████▏                              | 6/20 [00:10<00:31,  2.24s/it]\u001b[A\n",
      " 35%|███████████████▍                            | 7/20 [00:13<00:34,  2.63s/it]\u001b[A\n",
      " 40%|█████████████████▌                          | 8/20 [00:17<00:36,  3.06s/it]\u001b[A\n",
      " 45%|███████████████████▊                        | 9/20 [00:22<00:38,  3.48s/it]\u001b[A\n",
      " 50%|█████████████████████▌                     | 10/20 [00:27<00:39,  3.91s/it]\u001b[A\n",
      " 55%|███████████████████████▋                   | 11/20 [00:32<00:39,  4.36s/it]\u001b[A\n",
      " 60%|█████████████████████████▊                 | 12/20 [00:38<00:38,  4.83s/it]\u001b[A\n",
      " 65%|███████████████████████████▉               | 13/20 [00:45<00:37,  5.36s/it]\u001b[A\n",
      " 70%|██████████████████████████████             | 14/20 [00:51<00:34,  5.82s/it]\u001b[A\n",
      " 75%|████████████████████████████████▎          | 15/20 [00:59<00:31,  6.30s/it]\u001b[A\n",
      " 80%|██████████████████████████████████▍        | 16/20 [01:07<00:27,  6.90s/it]\u001b[A\n",
      " 85%|████████████████████████████████████▌      | 17/20 [01:17<00:23,  7.67s/it]\u001b[A\n",
      " 90%|██████████████████████████████████████▋    | 18/20 [01:27<00:16,  8.33s/it]\u001b[A\n",
      " 95%|████████████████████████████████████████▊  | 19/20 [01:37<00:09,  9.03s/it]\u001b[A\n",
      "100%|███████████████████████████████████████████| 20/20 [01:49<00:00,  5.46s/it]\u001b[A\n",
      " 50%|██████████████████████▌                      | 2/4 [03:05<03:11, 95.82s/it]\n",
      "  0%|                                                    | 0/20 [00:00<?, ?it/s]\u001b[A\n",
      "  5%|██▏                                         | 1/20 [00:00<00:12,  1.57it/s]\u001b[A\n",
      " 10%|████▍                                       | 2/20 [00:01<00:18,  1.03s/it]\u001b[A\n",
      " 15%|██████▌                                     | 3/20 [00:03<00:24,  1.46s/it]\u001b[A\n",
      " 20%|████████▊                                   | 4/20 [00:06<00:29,  1.87s/it]\u001b[A\n",
      " 25%|███████████                                 | 5/20 [00:09<00:35,  2.35s/it]\u001b[A\n",
      " 30%|█████████████▏                              | 6/20 [00:13<00:39,  2.81s/it]\u001b[A\n",
      " 35%|███████████████▍                            | 7/20 [00:17<00:42,  3.27s/it]\u001b[A\n",
      " 40%|█████████████████▌                          | 8/20 [00:22<00:46,  3.84s/it]\u001b[A\n",
      " 45%|███████████████████▊                        | 9/20 [00:28<00:47,  4.33s/it]\u001b[A\n",
      " 50%|█████████████████████▌                     | 10/20 [00:34<00:48,  4.85s/it]\u001b[A\n",
      " 55%|███████████████████████▋                   | 11/20 [00:40<00:47,  5.25s/it]\u001b[A\n",
      " 60%|█████████████████████████▊                 | 12/20 [00:47<00:46,  5.77s/it]\u001b[A\n",
      " 65%|███████████████████████████▉               | 13/20 [00:54<00:44,  6.29s/it]\u001b[A\n",
      " 70%|██████████████████████████████             | 14/20 [01:02<00:40,  6.83s/it]\u001b[A\n",
      " 75%|████████████████████████████████▎          | 15/20 [01:11<00:37,  7.41s/it]\u001b[A\n",
      " 80%|██████████████████████████████████▍        | 16/20 [01:21<00:32,  8.05s/it]\u001b[A\n",
      " 85%|████████████████████████████████████▌      | 17/20 [01:30<00:25,  8.63s/it]\u001b[A\n",
      " 90%|██████████████████████████████████████▋    | 18/20 [01:41<00:18,  9.16s/it]\u001b[A\n",
      " 95%|████████████████████████████████████████▊  | 19/20 [01:52<00:09,  9.60s/it]\u001b[A\n",
      "100%|███████████████████████████████████████████| 20/20 [02:03<00:00,  6.18s/it]\u001b[A\n",
      " 75%|█████████████████████████████████           | 3/4 [05:09<01:48, 108.53s/it]\n",
      "  0%|                                                    | 0/20 [00:00<?, ?it/s]\u001b[A\n",
      "  5%|██▏                                         | 1/20 [00:00<00:10,  1.79it/s]\u001b[A\n",
      " 10%|████▍                                       | 2/20 [00:01<00:16,  1.08it/s]\u001b[A\n",
      " 15%|██████▌                                     | 3/20 [00:03<00:21,  1.28s/it]\u001b[A\n",
      " 20%|████████▊                                   | 4/20 [00:05<00:26,  1.68s/it]\u001b[A\n",
      " 25%|███████████                                 | 5/20 [00:08<00:31,  2.08s/it]\u001b[A\n",
      " 30%|█████████████▏                              | 6/20 [00:11<00:35,  2.52s/it]\u001b[A\n",
      " 35%|███████████████▍                            | 7/20 [00:15<00:38,  2.98s/it]\u001b[A\n",
      " 40%|█████████████████▌                          | 8/20 [00:20<00:42,  3.55s/it]\u001b[A\n",
      " 45%|███████████████████▊                        | 9/20 [00:25<00:44,  4.06s/it]\u001b[A\n",
      " 50%|█████████████████████▌                     | 10/20 [00:31<00:45,  4.56s/it]\u001b[A\n",
      " 55%|███████████████████████▋                   | 11/20 [00:37<00:45,  5.07s/it]\u001b[A\n",
      " 60%|█████████████████████████▊                 | 12/20 [00:44<00:45,  5.63s/it]\u001b[A\n",
      " 65%|███████████████████████████▉               | 13/20 [00:51<00:43,  6.15s/it]\u001b[A\n",
      " 70%|██████████████████████████████             | 14/20 [00:59<00:40,  6.68s/it]\u001b[A\n",
      " 75%|████████████████████████████████▎          | 15/20 [01:08<00:36,  7.22s/it]\u001b[A\n",
      " 80%|██████████████████████████████████▍        | 16/20 [01:18<00:32,  8.10s/it]\u001b[A\n",
      " 85%|████████████████████████████████████▌      | 17/20 [01:29<00:26,  8.92s/it]\u001b[A\n",
      " 90%|██████████████████████████████████████▋    | 18/20 [01:40<00:19,  9.62s/it]\u001b[A\n",
      " 95%|████████████████████████████████████████▊  | 19/20 [01:52<00:10, 10.38s/it]\u001b[A\n",
      "100%|███████████████████████████████████████████| 20/20 [02:05<00:00,  6.25s/it]\u001b[A\n",
      "100%|████████████████████████████████████████████| 4/4 [07:14<00:00, 108.65s/it]\n"
     ]
    },
    {
     "data": {
      "text/html": [
       "<div>\n",
       "<style scoped>\n",
       "    .dataframe tbody tr th:only-of-type {\n",
       "        vertical-align: middle;\n",
       "    }\n",
       "\n",
       "    .dataframe tbody tr th {\n",
       "        vertical-align: top;\n",
       "    }\n",
       "\n",
       "    .dataframe thead th {\n",
       "        text-align: right;\n",
       "    }\n",
       "</style>\n",
       "<table border=\"1\" class=\"dataframe\">\n",
       "  <thead>\n",
       "    <tr style=\"text-align: right;\">\n",
       "      <th></th>\n",
       "      <th>max_depth</th>\n",
       "      <th>n_estimators</th>\n",
       "      <th>mse</th>\n",
       "    </tr>\n",
       "  </thead>\n",
       "  <tbody>\n",
       "    <tr>\n",
       "      <th>0</th>\n",
       "      <td>10</td>\n",
       "      <td>10</td>\n",
       "      <td>0.065276</td>\n",
       "    </tr>\n",
       "    <tr>\n",
       "      <th>1</th>\n",
       "      <td>10</td>\n",
       "      <td>20</td>\n",
       "      <td>0.064010</td>\n",
       "    </tr>\n",
       "    <tr>\n",
       "      <th>2</th>\n",
       "      <td>10</td>\n",
       "      <td>30</td>\n",
       "      <td>0.063343</td>\n",
       "    </tr>\n",
       "    <tr>\n",
       "      <th>3</th>\n",
       "      <td>10</td>\n",
       "      <td>40</td>\n",
       "      <td>0.063128</td>\n",
       "    </tr>\n",
       "    <tr>\n",
       "      <th>4</th>\n",
       "      <td>10</td>\n",
       "      <td>50</td>\n",
       "      <td>0.062625</td>\n",
       "    </tr>\n",
       "    <tr>\n",
       "      <th>...</th>\n",
       "      <td>...</td>\n",
       "      <td>...</td>\n",
       "      <td>...</td>\n",
       "    </tr>\n",
       "    <tr>\n",
       "      <th>75</th>\n",
       "      <td>25</td>\n",
       "      <td>160</td>\n",
       "      <td>0.053702</td>\n",
       "    </tr>\n",
       "    <tr>\n",
       "      <th>76</th>\n",
       "      <td>25</td>\n",
       "      <td>170</td>\n",
       "      <td>0.053673</td>\n",
       "    </tr>\n",
       "    <tr>\n",
       "      <th>77</th>\n",
       "      <td>25</td>\n",
       "      <td>180</td>\n",
       "      <td>0.053753</td>\n",
       "    </tr>\n",
       "    <tr>\n",
       "      <th>78</th>\n",
       "      <td>25</td>\n",
       "      <td>190</td>\n",
       "      <td>0.053725</td>\n",
       "    </tr>\n",
       "    <tr>\n",
       "      <th>79</th>\n",
       "      <td>25</td>\n",
       "      <td>200</td>\n",
       "      <td>0.053669</td>\n",
       "    </tr>\n",
       "  </tbody>\n",
       "</table>\n",
       "<p>80 rows × 3 columns</p>\n",
       "</div>"
      ],
      "text/plain": [
       "    max_depth  n_estimators       mse\n",
       "0          10            10  0.065276\n",
       "1          10            20  0.064010\n",
       "2          10            30  0.063343\n",
       "3          10            40  0.063128\n",
       "4          10            50  0.062625\n",
       "..        ...           ...       ...\n",
       "75         25           160  0.053702\n",
       "76         25           170  0.053673\n",
       "77         25           180  0.053753\n",
       "78         25           190  0.053725\n",
       "79         25           200  0.053669\n",
       "\n",
       "[80 rows x 3 columns]"
      ]
     },
     "execution_count": 21,
     "metadata": {},
     "output_type": "execute_result"
    }
   ],
   "source": [
    "scores = []\n",
    "\n",
    "for d in tqdm([10, 15, 20, 25]):\n",
    "    for n in tqdm(range(10, 201, 10)):\n",
    "        rf = RandomForestRegressor(n_estimators=n,\n",
    "                                    max_depth=d,\n",
    "                                    random_state=1)\n",
    "        rf.fit(X_train, y_train)\n",
    "\n",
    "        y_pred = rf.predict(X_val)\n",
    "        mse = mean_squared_error(y_val, y_pred)\n",
    "    \n",
    "        scores.append((d, n, mse))\n",
    "\n",
    "df_score = pd.DataFrame(scores, columns=['max_depth', 'n_estimators', 'mse'])\n",
    "df_score        "
   ]
  },
  {
   "cell_type": "code",
   "execution_count": 22,
   "id": "1b88b4c3",
   "metadata": {},
   "outputs": [
    {
     "data": {
      "text/plain": [
       "<matplotlib.legend.Legend at 0x7f5df9a73df0>"
      ]
     },
     "execution_count": 22,
     "metadata": {},
     "output_type": "execute_result"
    },
    {
     "data": {
      "image/png": "[encoded data removed]",
      "text/plain": [
       "<Figure size 640x480 with 1 Axes>"
      ]
     },
     "metadata": {},
     "output_type": "display_data"
    }
   ],
   "source": [
    "for d in [10, 15, 20, 25]:\n",
    "    df_subset = df_score[df_score.max_depth == d]\n",
    "    \n",
    "    plt.plot(df_subset.n_estimators, df_subset.mse,\n",
    "             label='max_depth=%d' % d)\n",
    "\n",
    "plt.legend()"
   ]
  },
  {
   "cell_type": "markdown",
   "id": "e11a9d3d",
   "metadata": {},
   "source": [
    "# Question 4\n",
    "\n",
    "Let's select the best max_depth:\n",
    "\n",
    "    Try different values of max_depth: [10, 15, 20, 25]\n",
    "    For each of these values, try different values of n_estimators from 10 till 200 (with step 10)\n",
    "    Fix the random seed: random_state=1\n",
    "\n",
    "What's the best max_depth:\n",
    "\n",
    "    10\n",
    "    15\n",
    "    20\n",
    "    25"
   ]
  },
  {
   "cell_type": "markdown",
   "id": "464bcc8b",
   "metadata": {},
   "source": [
    "Answer: 20"
   ]
  },
  {
   "cell_type": "code",
   "execution_count": 23,
   "id": "b7ff9d29",
   "metadata": {},
   "outputs": [
    {
     "data": {
      "text/plain": [
       "RandomForestRegressor(max_depth=20, n_estimators=10, n_jobs=-1, random_state=1)"
      ]
     },
     "execution_count": 23,
     "metadata": {},
     "output_type": "execute_result"
    }
   ],
   "source": [
    "rf = RandomForestRegressor(n_estimators=10, max_depth=20, random_state=1, n_jobs=-1)\n",
    "rf.fit(X_train, y_train)"
   ]
  },
  {
   "cell_type": "code",
   "execution_count": 28,
   "id": "c950c70f",
   "metadata": {},
   "outputs": [
    {
     "name": "stderr",
     "output_type": "stream",
     "text": [
      "/home/regidan/miniconda3/lib/python3.9/site-packages/sklearn/utils/deprecation.py:87: FutureWarning: Function get_feature_names is deprecated; get_feature_names is deprecated in 1.0 and will be removed in 1.2. Please use get_feature_names_out instead.\n",
      "  warnings.warn(msg, category=FutureWarning)\n"
     ]
    },
    {
     "data": {
      "text/plain": [
       "[(0.016888379552984147, 'households'),\n",
       " (0.03292346103935652, 'housing_median_age'),\n",
       " (0.10063599497727305, 'latitude'),\n",
       " (0.09687211475603387, 'longitude'),\n",
       " (0.36388996426071046, 'median_income'),\n",
       " (0.0030667924625737133, 'ocean_proximity=<1H OCEAN'),\n",
       " (0.31090116055215333, 'ocean_proximity=INLAND'),\n",
       " (0.0003585662769167301, 'ocean_proximity=ISLAND'),\n",
       " (0.0002700768600650872, 'ocean_proximity=NEAR BAY'),\n",
       " (0.004219559248696653, 'ocean_proximity=NEAR OCEAN'),\n",
       " (0.030009924278211593, 'population'),\n",
       " (0.01905034488813357, 'total_bedrooms'),\n",
       " (0.020913660846891332, 'total_rooms')]"
      ]
     },
     "execution_count": 28,
     "metadata": {},
     "output_type": "execute_result"
    }
   ],
   "source": [
    "list(zip(rf.feature_importances_, dv.get_feature_names()))"
   ]
  },
  {
   "cell_type": "markdown",
   "id": "159478c5",
   "metadata": {},
   "source": [
    "# Question 5\n",
    "\n",
    "We can extract feature importance information from tree-based models.\n",
    "\n",
    "At each step of the decision tree learning algorith, it finds the best split. When doint it, we can calculate \"gain\" - the reduction in impurity before and after the split. This gain is quite useful in understanding what are the imporatant features for tree-based models.\n",
    "\n",
    "In Scikit-Learn, tree-based models contain this information in the feature_importances_ field.\n",
    "\n",
    "For this homework question, we'll find the most important feature:\n",
    "\n",
    "    Train the model with these parametes:\n",
    "        n_estimators=10,\n",
    "        max_depth=20,\n",
    "        random_state=1,\n",
    "        n_jobs=-1 (optional)\n",
    "    Get the feature importance information from this model\n",
    "\n",
    "What's the most important feature?\n",
    "\n",
    "    total_rooms\n",
    "    median_income\n",
    "    total_bedrooms\n",
    "    longitude"
   ]
  },
  {
   "cell_type": "markdown",
   "id": "913b1dfb",
   "metadata": {},
   "source": [
    "Answer: median_income"
   ]
  },
  {
   "cell_type": "code",
   "execution_count": 30,
   "id": "2ce94a57",
   "metadata": {},
   "outputs": [],
   "source": [
    "features = dv.feature_names_\n",
    "\n",
    "regex = re.compile(r\"<\", re.IGNORECASE)\n",
    "features = [regex.sub(\"_\", col) if any(x in str(col) for x in set(('[', ']', '<'))) else col for col in features]\n",
    "\n",
    "dtrain = xgb.DMatrix(X_train, label=y_train, feature_names=features)\n",
    "dval = xgb.DMatrix(X_val, label=y_val, feature_names=features)"
   ]
  },
  {
   "cell_type": "code",
   "execution_count": 31,
   "id": "037a1cdc",
   "metadata": {},
   "outputs": [],
   "source": [
    "watchlist = [(dtrain, 'train'), (dval, 'val')]\n",
    "\n",
    "scores = {}"
   ]
  },
  {
   "cell_type": "code",
   "execution_count": 42,
   "id": "de9cf036",
   "metadata": {},
   "outputs": [],
   "source": [
    "%%capture output\n",
    "\n",
    "xgb_params = {\n",
    "  'eta': 0.3,         # ETA - learning rate\n",
    "  'max_depth': 6,\n",
    "  'min_child_weight': 1,\n",
    "\n",
    "  'objective': 'reg:squarederror',\n",
    "  'nthread': 8,\n",
    "\n",
    "  'seed': 1,\n",
    "  'verbosity': 1,\n",
    "}\n",
    "\n",
    "model = xgb.train(xgb_params, dtrain, num_boost_round=100,\n",
    "                  verbose_eval=5,\n",
    "                  evals=watchlist)"
   ]
  },
  {
   "cell_type": "code",
   "execution_count": 43,
   "id": "e01e8af8",
   "metadata": {},
   "outputs": [],
   "source": [
    "def parse_xgb_output(output):\n",
    "    results = []\n",
    "\n",
    "    for line in output.stdout.strip().split('\\n'):\n",
    "        it_line, train_line, val_line = line.split('\\t')\n",
    "\n",
    "        it = int(it_line.strip('[]'))\n",
    "        train = float(train_line.split(':')[1])\n",
    "        val = float(val_line.split(':')[1])\n",
    "\n",
    "        results.append((it, train, val))\n",
    "    \n",
    "    columns = ['num_iter', 'train_mse', 'val_mse']\n",
    "    df_results = pd.DataFrame(results, columns=columns)\n",
    "    return df_results"
   ]
  },
  {
   "cell_type": "code",
   "execution_count": 44,
   "id": "6f1ff2f3",
   "metadata": {},
   "outputs": [
    {
     "data": {
      "text/plain": [
       "'eta=0.3'"
      ]
     },
     "execution_count": 44,
     "metadata": {},
     "output_type": "execute_result"
    }
   ],
   "source": [
    "key = 'eta=%s' % (xgb_params['eta'])\n",
    "scores[key] = parse_xgb_output(output)\n",
    "key"
   ]
  },
  {
   "cell_type": "code",
   "execution_count": 45,
   "id": "e0db6eab",
   "metadata": {},
   "outputs": [
    {
     "data": {
      "text/html": [
       "<div>\n",
       "<style scoped>\n",
       "    .dataframe tbody tr th:only-of-type {\n",
       "        vertical-align: middle;\n",
       "    }\n",
       "\n",
       "    .dataframe tbody tr th {\n",
       "        vertical-align: top;\n",
       "    }\n",
       "\n",
       "    .dataframe thead th {\n",
       "        text-align: right;\n",
       "    }\n",
       "</style>\n",
       "<table border=\"1\" class=\"dataframe\">\n",
       "  <thead>\n",
       "    <tr style=\"text-align: right;\">\n",
       "      <th></th>\n",
       "      <th>num_iter</th>\n",
       "      <th>train_mse</th>\n",
       "      <th>val_mse</th>\n",
       "    </tr>\n",
       "  </thead>\n",
       "  <tbody>\n",
       "    <tr>\n",
       "      <th>0</th>\n",
       "      <td>0</td>\n",
       "      <td>8.12732</td>\n",
       "      <td>8.13244</td>\n",
       "    </tr>\n",
       "    <tr>\n",
       "      <th>1</th>\n",
       "      <td>5</td>\n",
       "      <td>1.40218</td>\n",
       "      <td>1.40740</td>\n",
       "    </tr>\n",
       "    <tr>\n",
       "      <th>2</th>\n",
       "      <td>10</td>\n",
       "      <td>0.34481</td>\n",
       "      <td>0.35782</td>\n",
       "    </tr>\n",
       "    <tr>\n",
       "      <th>3</th>\n",
       "      <td>15</td>\n",
       "      <td>0.23575</td>\n",
       "      <td>0.26099</td>\n",
       "    </tr>\n",
       "    <tr>\n",
       "      <th>4</th>\n",
       "      <td>20</td>\n",
       "      <td>0.21461</td>\n",
       "      <td>0.24532</td>\n",
       "    </tr>\n",
       "    <tr>\n",
       "      <th>5</th>\n",
       "      <td>25</td>\n",
       "      <td>0.20356</td>\n",
       "      <td>0.24033</td>\n",
       "    </tr>\n",
       "    <tr>\n",
       "      <th>6</th>\n",
       "      <td>30</td>\n",
       "      <td>0.19462</td>\n",
       "      <td>0.23694</td>\n",
       "    </tr>\n",
       "    <tr>\n",
       "      <th>7</th>\n",
       "      <td>35</td>\n",
       "      <td>0.18687</td>\n",
       "      <td>0.23540</td>\n",
       "    </tr>\n",
       "    <tr>\n",
       "      <th>8</th>\n",
       "      <td>40</td>\n",
       "      <td>0.18073</td>\n",
       "      <td>0.23358</td>\n",
       "    </tr>\n",
       "    <tr>\n",
       "      <th>9</th>\n",
       "      <td>45</td>\n",
       "      <td>0.17626</td>\n",
       "      <td>0.23331</td>\n",
       "    </tr>\n",
       "    <tr>\n",
       "      <th>10</th>\n",
       "      <td>50</td>\n",
       "      <td>0.17133</td>\n",
       "      <td>0.23297</td>\n",
       "    </tr>\n",
       "    <tr>\n",
       "      <th>11</th>\n",
       "      <td>55</td>\n",
       "      <td>0.16535</td>\n",
       "      <td>0.23169</td>\n",
       "    </tr>\n",
       "    <tr>\n",
       "      <th>12</th>\n",
       "      <td>60</td>\n",
       "      <td>0.16016</td>\n",
       "      <td>0.23109</td>\n",
       "    </tr>\n",
       "    <tr>\n",
       "      <th>13</th>\n",
       "      <td>65</td>\n",
       "      <td>0.15691</td>\n",
       "      <td>0.23059</td>\n",
       "    </tr>\n",
       "    <tr>\n",
       "      <th>14</th>\n",
       "      <td>70</td>\n",
       "      <td>0.15374</td>\n",
       "      <td>0.23070</td>\n",
       "    </tr>\n",
       "    <tr>\n",
       "      <th>15</th>\n",
       "      <td>75</td>\n",
       "      <td>0.15076</td>\n",
       "      <td>0.22975</td>\n",
       "    </tr>\n",
       "    <tr>\n",
       "      <th>16</th>\n",
       "      <td>80</td>\n",
       "      <td>0.14708</td>\n",
       "      <td>0.22903</td>\n",
       "    </tr>\n",
       "    <tr>\n",
       "      <th>17</th>\n",
       "      <td>85</td>\n",
       "      <td>0.14429</td>\n",
       "      <td>0.22911</td>\n",
       "    </tr>\n",
       "    <tr>\n",
       "      <th>18</th>\n",
       "      <td>90</td>\n",
       "      <td>0.14010</td>\n",
       "      <td>0.22856</td>\n",
       "    </tr>\n",
       "    <tr>\n",
       "      <th>19</th>\n",
       "      <td>95</td>\n",
       "      <td>0.13772</td>\n",
       "      <td>0.22823</td>\n",
       "    </tr>\n",
       "    <tr>\n",
       "      <th>20</th>\n",
       "      <td>99</td>\n",
       "      <td>0.13522</td>\n",
       "      <td>0.22784</td>\n",
       "    </tr>\n",
       "  </tbody>\n",
       "</table>\n",
       "</div>"
      ],
      "text/plain": [
       "    num_iter  train_mse  val_mse\n",
       "0          0    8.12732  8.13244\n",
       "1          5    1.40218  1.40740\n",
       "2         10    0.34481  0.35782\n",
       "3         15    0.23575  0.26099\n",
       "4         20    0.21461  0.24532\n",
       "5         25    0.20356  0.24033\n",
       "6         30    0.19462  0.23694\n",
       "7         35    0.18687  0.23540\n",
       "8         40    0.18073  0.23358\n",
       "9         45    0.17626  0.23331\n",
       "10        50    0.17133  0.23297\n",
       "11        55    0.16535  0.23169\n",
       "12        60    0.16016  0.23109\n",
       "13        65    0.15691  0.23059\n",
       "14        70    0.15374  0.23070\n",
       "15        75    0.15076  0.22975\n",
       "16        80    0.14708  0.22903\n",
       "17        85    0.14429  0.22911\n",
       "18        90    0.14010  0.22856\n",
       "19        95    0.13772  0.22823\n",
       "20        99    0.13522  0.22784"
      ]
     },
     "execution_count": 45,
     "metadata": {},
     "output_type": "execute_result"
    }
   ],
   "source": [
    "scores['eta=0.3']"
   ]
  },
  {
   "cell_type": "markdown",
   "id": "9ba0c440",
   "metadata": {},
   "source": [
    "# Question 6\n",
    "\n",
    "Now let's train an XGBoost model! For this question, we'll tune the eta parameter:\n",
    "\n",
    "    Install XGBoost\n",
    "    Create DMatrix for train and validation\n",
    "    Create a watchlist\n",
    "    Train a model with these parameters for 100 rounds:\n",
    "\n",
    "xgb_params = {\n",
    "    'eta': 0.3, \n",
    "    'max_depth': 6,\n",
    "    'min_child_weight': 1,\n",
    "    \n",
    "    'objective': 'reg:squarederror',\n",
    "    'nthread': 8,\n",
    "    \n",
    "    'seed': 1,\n",
    "    'verbosity': 1,\n",
    "}\n",
    "\n",
    "Now change eta from 0.3 to 0.1.\n",
    "\n",
    "Which eta leads to the best RMSE score on the validation dataset?\n",
    "\n",
    "    0.3\n",
    "    0.1\n",
    "    Both gives same"
   ]
  },
  {
   "cell_type": "markdown",
   "id": "94759a56",
   "metadata": {},
   "source": [
    "Answer: 0.3"
   ]
  },
  {
   "cell_type": "code",
   "execution_count": null,
   "id": "2fa71d6b",
   "metadata": {},
   "outputs": [],
   "source": []
  }
 ],
 "metadata": {
  "kernelspec": {
   "display_name": "Python 3 (ipykernel)",
   "language": "python",
   "name": "python3"
  },
  "language_info": {
   "codemirror_mode": {
    "name": "ipython",
    "version": 3
   },
   "file_extension": ".py",
   "mimetype": "text/x-python",
   "name": "python",
   "nbconvert_exporter": "python",
   "pygments_lexer": "ipython3",
   "version": "3.9.12"
  }
 },
 "nbformat": 4,
 "nbformat_minor": 5
}
